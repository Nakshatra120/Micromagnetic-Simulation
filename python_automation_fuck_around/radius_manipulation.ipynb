{
 "cells": [
  {
   "cell_type": "code",
   "execution_count": 12,
   "metadata": {},
   "outputs": [],
   "source": [
    "import os\n",
    "import shutil\n",
    "import subprocess\n",
    "import time"
   ]
  },
  {
   "attachments": {},
   "cell_type": "markdown",
   "metadata": {},
   "source": [
    "Program that will save many copies of the \"STNO_20nm.txt\" file with respective names with different values of radii ranging from 20nm to 200nm in steps of 10nm.  \n",
    "  It can be changed to create files with any varying parameter easily."
   ]
  },
  {
   "cell_type": "code",
   "execution_count": 13,
   "metadata": {},
   "outputs": [
    {
     "name": "stdout",
     "output_type": "stream",
     "text": [
      "All files have been created.\n"
     ]
    }
   ],
   "source": [
    "import os\n",
    "\n",
    "# The template file's path\n",
    "template_file_path = \"STNO_20nm.txt\"\n",
    "\n",
    "# Read the template file\n",
    "with open(template_file_path, 'r') as file:\n",
    "    template_content = file.read()\n",
    "\n",
    "# Iterate over the radii from 20nm to 200nm\n",
    "for r in range(20, 210, 10):  # 210 is exclusive\n",
    "    # Replace the radius value in the template\n",
    "    content = template_content.replace('r:=20E-9 //radius', f'r:={r}E-9 //radius')\n",
    "\n",
    "    # Write the result to a new file, named based on the radius value\n",
    "    new_file_path = f\"STNO_{r}nm.txt\"\n",
    "    with open(new_file_path, 'w') as file:\n",
    "        file.write(content)\n",
    "\n",
    "print(\"All files have been created.\")"
   ]
  },
  {
   "attachments": {},
   "cell_type": "markdown",
   "metadata": {},
   "source": [
    "Just checking whether all files were created:"
   ]
  },
  {
   "cell_type": "code",
   "execution_count": 14,
   "metadata": {},
   "outputs": [
    {
     "name": "stdout",
     "output_type": "stream",
     "text": [
      " Volume in drive C has no label.\n",
      " Volume Serial Number is BED6-1EE0\n",
      "\n",
      " Directory of c:\\Users\\ABC\\Desktop\\Mumax\\python_automation_fuck_around\n",
      "\n",
      "06/27/2023  10:36 PM    <DIR>          .\n",
      "06/27/2023  10:36 PM    <DIR>          ..\n",
      "06/27/2023  02:47 PM                 0 radius_manipulation.ipynb\n",
      "06/28/2023  12:07 AM             1,630 STNO_100nm.txt\n",
      "06/28/2023  12:07 AM             1,630 STNO_110nm.txt\n",
      "06/28/2023  12:07 AM             1,630 STNO_120nm.txt\n",
      "06/28/2023  12:07 AM             1,630 STNO_130nm.txt\n",
      "06/28/2023  12:07 AM             1,630 STNO_140nm.txt\n",
      "06/28/2023  12:07 AM             1,630 STNO_150nm.txt\n",
      "06/28/2023  12:07 AM             1,630 STNO_160nm.txt\n",
      "06/28/2023  12:07 AM             1,630 STNO_170nm.txt\n",
      "06/28/2023  12:07 AM             1,630 STNO_180nm.txt\n",
      "06/28/2023  12:07 AM             1,630 STNO_190nm.txt\n",
      "06/28/2023  12:07 AM             1,630 STNO_200nm.txt\n",
      "06/28/2023  12:07 AM             1,630 STNO_20nm.txt\n",
      "06/28/2023  12:07 AM             1,630 STNO_30nm.txt\n",
      "06/28/2023  12:07 AM             1,630 STNO_40nm.txt\n",
      "06/28/2023  12:07 AM             1,630 STNO_50nm.txt\n",
      "06/28/2023  12:07 AM             1,630 STNO_60nm.txt\n",
      "06/28/2023  12:07 AM             1,630 STNO_70nm.txt\n",
      "06/28/2023  12:07 AM             1,630 STNO_80nm.txt\n",
      "06/28/2023  12:07 AM             1,630 STNO_90nm.txt\n",
      "              20 File(s)         30,970 bytes\n",
      "               2 Dir(s)  30,526,185,472 bytes free\n",
      "\n"
     ]
    }
   ],
   "source": [
    "# Running a shell command and capturing output\n",
    "\n",
    "if os.name == 'nt':  # If the operating system is Windows.\n",
    "    result = subprocess.run([\"cmd\", \"/c\", \"dir\"], capture_output=True, text=True)\n",
    "else:  # If the operating system is Unix-based (Linux, macOS, etc.).\n",
    "    result = subprocess.run([\"ls\", \"-l\"], capture_output=True, text=True)\n",
    "\n",
    "# Print the output of the command\n",
    "print(result.stdout)"
   ]
  },
  {
   "attachments": {},
   "cell_type": "markdown",
   "metadata": {},
   "source": [
    "Now I want to run the file 'STNO_20nm.txt' in terminal using 'mumax3 STNO_20nm.txt'. This will create a folder called 'STNO_20nm.out' which will contain the output files of the device. It takes about a minute to create the 'STNO_20nm.out' folder due to processing speed constraints. Inside the 'STNO_20nm.out' folder there will be a 'table.txt' file. I want to take out the 'table.txt' file from the 'STNO_20nm.out' folder. Then I want to delete the 'STNO_20nm.out folder'. After this operation is completed, I want to repeat this process for all 'STNO_{r}nm.txt' files which we created earlier where the radius range from 20nm to 200nm. To do this, I want to write a python script that automatically does all of that. "
   ]
  },
  {
   "cell_type": "code",
   "execution_count": null,
   "metadata": {},
   "outputs": [],
   "source": [
    "# Set the directory where the files are located\n",
    "directory = \"./\"  # current directory\n",
    "\n",
    "# Create a list of command for different OS types\n",
    "if os.name == 'nt':\n",
    "    mumax3_command = [\"cmd\", \"/c\", \"mumax3\"]\n",
    "else:\n",
    "    mumax3_command = [\"mumax3\"]\n",
    "\n",
    "# Iterate over the radii from 20nm to 200nm\n",
    "for r in range(20, 210, 10):  # 210 is exclusive\n",
    "    # Construct the input file name\n",
    "    input_file = f\"STNO_{r}nm.txt\"\n",
    "    \n",
    "    # Run the mumax3 command on the input file\n",
    "    subprocess.run(mumax3_command + [input_file])\n",
    "\n",
    "    # Delay to ensure that the processing has been completed\n",
    "    time.sleep(120)  # Delay for 120 seconds, assuming that the output file will be created in 2 minutes\n",
    "    \n",
    "    # Construct the output directory name\n",
    "    out_dir = f\"STNO_{r}nm.out\"\n",
    "    \n",
    "    # Check if the output directory exists\n",
    "    if os.path.isdir(out_dir):\n",
    "        # Construct the source and destination file paths\n",
    "        source_file = os.path.join(out_dir, \"table.txt\")\n",
    "        destination_file = f\"table_{r}nm.txt\"\n",
    "        \n",
    "        # Move the table.txt file to the current directory and rename it\n",
    "        shutil.move(source_file, destination_file)\n",
    "        \n",
    "        # Remove the output directory\n",
    "        shutil.rmtree(out_dir)\n",
    "    else:\n",
    "        print(f\"Error: The output directory '{out_dir}' does not exist\")\n",
    "\n",
    "print(\"All operations have been completed.\")"
   ]
  },
  {
   "attachments": {},
   "cell_type": "markdown",
   "metadata": {},
   "source": [
    "# Amplitude and Power Spectrum"
   ]
  },
  {
   "attachments": {},
   "cell_type": "markdown",
   "metadata": {},
   "source": []
  }
 ],
 "metadata": {
  "kernelspec": {
   "display_name": "base",
   "language": "python",
   "name": "python3"
  },
  "language_info": {
   "codemirror_mode": {
    "name": "ipython",
    "version": 3
   },
   "file_extension": ".py",
   "mimetype": "text/x-python",
   "name": "python",
   "nbconvert_exporter": "python",
   "pygments_lexer": "ipython3",
   "version": "3.10.9"
  },
  "orig_nbformat": 4
 },
 "nbformat": 4,
 "nbformat_minor": 2
}
