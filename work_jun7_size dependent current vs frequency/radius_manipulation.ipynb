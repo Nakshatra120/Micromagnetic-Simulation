{
 "cells": [
  {
   "cell_type": "code",
   "execution_count": 1,
   "metadata": {},
   "outputs": [],
   "source": [
    "import os\n",
    "import shutil\n",
    "import subprocess\n",
    "import time"
   ]
  },
  {
   "attachments": {},
   "cell_type": "markdown",
   "metadata": {},
   "source": [
    "Program that will save many copies of the \"STNO_20nm.txt\" file with respective names with different values of radii ranging from 20nm to 200nm in steps of 10nm.  \n",
    "  It can be changed to create files with any varying parameter easily."
   ]
  },
  {
   "cell_type": "code",
   "execution_count": 2,
   "metadata": {},
   "outputs": [
    {
     "name": "stdout",
     "output_type": "stream",
     "text": [
      "All files have been created.\n"
     ]
    }
   ],
   "source": [
    "import os\n",
    "\n",
    "# The template file's path\n",
    "template_file_path = \"STNO_20nm.txt\"\n",
    "\n",
    "# Read the template file\n",
    "with open(template_file_path, 'r') as file:\n",
    "    template_content = file.read()\n",
    "\n",
    "# Iterate over the radii from 20nm to 200nm\n",
    "for r in range(20, 210, 10):  # 210 is exclusive\n",
    "    # Replace the radius value in the template\n",
    "    content = template_content.replace('r:=20E-9 //radius', f'r:={r}E-9 //radius')\n",
    "\n",
    "    # Write the result to a new file, named based on the radius value\n",
    "    new_file_path = f\"STNO_{r}nm.txt\"\n",
    "    with open(new_file_path, 'w') as file:\n",
    "        file.write(content)\n",
    "\n",
    "print(\"All files have been created.\")"
   ]
  },
  {
   "attachments": {},
   "cell_type": "markdown",
   "metadata": {},
   "source": [
    "With current"
   ]
  },
  {
   "cell_type": "code",
   "execution_count": null,
   "metadata": {},
   "outputs": [],
   "source": [
    "import os\n",
    "\n",
    "# The template file's path\n",
    "template_file_path = \"STNO_20nm_06Amp.txt\"\n",
    "\n",
    "# Read the template file\n",
    "with open(template_file_path, 'r') as file:\n",
    "    template_content = file.read()\n",
    "\n",
    "# Iterate over the radii from 20nm to 200nm\n",
    "for J_c in range(0.04, 0.21, 0.01):  # 0.21 is exclusive\n",
    "    # Replace the radius value in the template\n",
    "\n",
    "    content = template_content.replace('Jc:= 0.06 //A', f'Jc:= {J_c} //A')\n",
    "\n",
    "    # Write the result to a new file, named based on the radius value\n",
    "    new_file_path = f\"STNO_{r}nm.txt\"\n",
    "    new_file_path = f\"STNO_{r}nm.txt\"\n",
    "    \n",
    "    with open(new_file_path, 'w') as file:\n",
    "        file.write(content)\n",
    "\n",
    "print(\"All files have been created.\")"
   ]
  },
  {
   "cell_type": "code",
   "execution_count": 1,
   "metadata": {},
   "outputs": [
    {
     "name": "stdout",
     "output_type": "stream",
     "text": [
      "File 'STNO_20nm_04Amp.txt' has been created.\n",
      "File 'STNO_20nm_06Amp.txt' has been created.\n",
      "File 'STNO_20nm_08Amp.txt' has been created.\n",
      "File 'STNO_20nm_10Amp.txt' has been created.\n",
      "File 'STNO_20nm_12Amp.txt' has been created.\n",
      "File 'STNO_20nm_14Amp.txt' has been created.\n",
      "File 'STNO_20nm_16Amp.txt' has been created.\n",
      "File 'STNO_20nm_18Amp.txt' has been created.\n",
      "File 'STNO_20nm_20Amp.txt' has been created.\n",
      "All files have been created.\n"
     ]
    }
   ],
   "source": [
    "import os\n",
    "\n",
    "# Set the directory where the files will be saved\n",
    "directory = \"./\"  # current directory\n",
    "\n",
    "# Iterate over the current values from 0.04 to 0.20\n",
    "for current in range(4, 21, 1):  # 21 is exclusive\n",
    "    # Construct the input file name\n",
    "    current_str = f\"{current:02}\"  # Format current value with leading zeros\n",
    "    input_file = f\"STNO_20nm_{current_str}Amp.txt\"\n",
    "\n",
    "    # Read the template file and replace the current value\n",
    "    with open(\"STNO_20nm_06Amp.txt\", \"r\") as template_file:\n",
    "        template_content = template_file.read()\n",
    "        modified_content = template_content.replace(\"Jc:= 0.06\", f\"Jc:= {current/100:.2f}\")\n",
    "\n",
    "    # Write the modified content to the new file\n",
    "    with open(input_file, \"w\") as output_file:\n",
    "        output_file.write(modified_content)\n",
    "\n",
    "    print(f\"File '{input_file}' has been created.\")\n",
    "\n",
    "print(\"All files have been created.\")"
   ]
  },
  {
   "attachments": {},
   "cell_type": "markdown",
   "metadata": {},
   "source": [
    "# ______________"
   ]
  },
  {
   "attachments": {},
   "cell_type": "markdown",
   "metadata": {},
   "source": [
    "Just checking whether all files were created:"
   ]
  },
  {
   "cell_type": "code",
   "execution_count": 3,
   "metadata": {},
   "outputs": [
    {
     "name": "stdout",
     "output_type": "stream",
     "text": [
      " Volume in drive C has no label.\n",
      " Volume Serial Number is BED6-1EE0\n",
      "\n",
      " Directory of c:\\Users\\ABC\\Desktop\\Mumax\\work_jun7_size dependent current vs frequency\n",
      "\n",
      "07/07/2023  01:32 PM    <DIR>          .\n",
      "07/07/2023  01:32 PM    <DIR>          ..\n",
      "07/07/2023  01:29 PM    <DIR>          20nm_1T_newparameters\n",
      "07/07/2023  01:31 PM             7,501 radius_manipulation.ipynb\n",
      "07/07/2023  01:32 PM             1,767 STNO_100nm.txt\n",
      "07/07/2023  01:32 PM             1,767 STNO_110nm.txt\n",
      "07/07/2023  01:32 PM             1,767 STNO_120nm.txt\n",
      "07/07/2023  01:32 PM             1,767 STNO_130nm.txt\n",
      "07/07/2023  01:32 PM             1,767 STNO_140nm.txt\n",
      "07/07/2023  01:32 PM             1,767 STNO_150nm.txt\n",
      "07/07/2023  01:32 PM             1,767 STNO_160nm.txt\n",
      "07/07/2023  01:32 PM             1,767 STNO_170nm.txt\n",
      "07/07/2023  01:32 PM             1,767 STNO_180nm.txt\n",
      "07/07/2023  01:32 PM             1,767 STNO_190nm.txt\n",
      "07/07/2023  01:32 PM             1,767 STNO_200nm.txt\n",
      "07/07/2023  01:32 PM             1,767 STNO_20nm.txt\n",
      "07/07/2023  01:32 PM             1,767 STNO_30nm.txt\n",
      "07/07/2023  01:32 PM             1,767 STNO_40nm.txt\n",
      "07/07/2023  01:32 PM             1,767 STNO_50nm.txt\n",
      "07/07/2023  01:32 PM             1,767 STNO_60nm.txt\n",
      "07/07/2023  01:32 PM             1,767 STNO_70nm.txt\n",
      "07/07/2023  01:32 PM             1,767 STNO_80nm.txt\n",
      "07/07/2023  01:32 PM             1,767 STNO_90nm.txt\n",
      "              20 File(s)         41,074 bytes\n",
      "               3 Dir(s)   8,611,307,520 bytes free\n",
      "\n"
     ]
    }
   ],
   "source": [
    "# Running a shell command and capturing output\n",
    "\n",
    "if os.name == 'nt':  # If the operating system is Windows.\n",
    "    result = subprocess.run([\"cmd\", \"/c\", \"dir\"], capture_output=True, text=True)\n",
    "else:  # If the operating system is Unix-based (Linux, macOS, etc.).\n",
    "    result = subprocess.run([\"ls\", \"-l\"], capture_output=True, text=True)\n",
    "\n",
    "# Print the output of the command\n",
    "print(result.stdout)"
   ]
  },
  {
   "attachments": {},
   "cell_type": "markdown",
   "metadata": {},
   "source": [
    "Now I want to run the file 'STNO_20nm.txt' in terminal using 'mumax3 STNO_20nm.txt'. This will create a folder called 'STNO_20nm.out' which will contain the output files of the device. It takes about a minute to create the 'STNO_20nm.out' folder due to processing speed constraints. Inside the 'STNO_20nm.out' folder there will be a 'table.txt' file. I want to take out the 'table.txt' file from the 'STNO_20nm.out' folder. Then I want to delete the 'STNO_20nm.out folder'. After this operation is completed, I want to repeat this process for all 'STNO_{r}nm.txt' files which we created earlier where the radius range from 20nm to 200nm. To do this, I want to write a python script that automatically does all of that. "
   ]
  },
  {
   "cell_type": "code",
   "execution_count": null,
   "metadata": {},
   "outputs": [],
   "source": [
    "# Set the directory where the files are located\n",
    "directory = \"./\"  # current directory\n",
    "\n",
    "# Create a list of command for different OS types\n",
    "if os.name == 'nt':\n",
    "    mumax3_command = [\"cmd\", \"/c\", \"mumax3\"]\n",
    "else:\n",
    "    mumax3_command = [\"mumax3\"]\n",
    "\n",
    "# Iterate over the radii from 20nm to 200nm\n",
    "for r in range(20, 210, 10):  # 210 is exclusive\n",
    "    # Construct the input file name\n",
    "    input_file = f\"STNO_{r}nm.txt\"\n",
    "    \n",
    "    # Run the mumax3 command on the input file\n",
    "    subprocess.run(mumax3_command + [input_file])\n",
    "\n",
    "    # Delay to ensure that the processing has been completed\n",
    "    time.sleep(120)  # Delay for 120 seconds, assuming that the output file will be created in 2 minutes\n",
    "    \n",
    "    # Construct the output directory name\n",
    "    out_dir = f\"STNO_{r}nm.out\"\n",
    "    \n",
    "    # Check if the output directory exists\n",
    "    if os.path.isdir(out_dir):\n",
    "        # Construct the source and destination file paths\n",
    "        source_file = os.path.join(out_dir, \"table.txt\")\n",
    "        destination_file = f\"table_{r}nm.txt\"\n",
    "        \n",
    "        # Move the table.txt file to the current directory and rename it\n",
    "        shutil.move(source_file, destination_file)\n",
    "        \n",
    "        # Remove the output directory\n",
    "        shutil.rmtree(out_dir)\n",
    "    else:\n",
    "        print(f\"Error: The output directory '{out_dir}' does not exist\")\n",
    "\n",
    "print(\"All operations have been completed.\")"
   ]
  },
  {
   "attachments": {},
   "cell_type": "markdown",
   "metadata": {},
   "source": [
    "In the first file that we just created file, the input current is represented by Jc:= 0.04. This file is named 'STNO_20nm_04Amp.txt'. I want to run the file 'STNO_20nm_04Amp.txt' in terminal using 'mumax3 STNO_20nm_04Amp.txt'. This will create a folder called 'STNO_20nm_04Amp.out' which will contain the output files of the device. It takes about about 2 minute to create the 'STNO_20nm_04Amp.out' folder due to processing speed constraints. Inside the 'STNO_20nm_04Amp.out' folder there will be a 'table.txt' file. I want to take out the 'table.txt' file from the 'STNO_20nm_04Amp.out' folder. The name of table.txt should be changed to table_20nm_{a}Amp.txt. Then I want to delete the 'STNO_20nm_04Amp.out folder'. After this operation is completed, I want to repeat this process for all 'STNO_20nm_{a}Amp.txt' files which we created earlier where the current range from 0.04Amp to 0.20Amp. To do this, I want to write a python script that automatically does all of that. "
   ]
  },
  {
   "cell_type": "code",
   "execution_count": null,
   "metadata": {},
   "outputs": [],
   "source": [
    "import os\n",
    "import shutil\n",
    "import subprocess\n",
    "import time\n",
    "\n",
    "# Set the directory where the files are located\n",
    "directory = \"./\"  # current directory\n",
    "\n",
    "# Create a list of command for different OS types\n",
    "if os.name == 'nt':\n",
    "    mumax3_command = [\"cmd\", \"/c\", \"mumax3\"]\n",
    "else:\n",
    "    mumax3_command = [\"mumax3\"]\n",
    "\n",
    "# Iterate over the current values from 0.04 to 0.20\n",
    "for current in range(4, 21, 1):  # 21 is exclusive\n",
    "    # Construct the input file name\n",
    "    current_str = f\"{current:02}\"  # Format current value with leading zeros\n",
    "    input_file = f\"STNO_20nm_{current_str}Amp.txt\"\n",
    "\n",
    "    # Run the mumax3 command on the input file\n",
    "    subprocess.run(mumax3_command + [input_file])\n",
    "\n",
    "    # Delay to ensure that the processing has been completed\n",
    "    time.sleep(120)  # Delay for 120 seconds\n",
    "    \n",
    "    # Construct the output directory name\n",
    "    out_dir = f\"STNO_20nm_{current_str}Amp.out\"\n",
    "    \n",
    "    # Check if the output directory exists\n",
    "    if os.path.isdir(out_dir):\n",
    "        # Construct the source and destination file paths\n",
    "        src_file = os.path.join(out_dir, \"table.txt\")\n",
    "        dest_file = f\"table_20nm_{current_str}Amp.txt\"\n",
    "        \n",
    "        # Move the table.txt file to the current directory and rename it\n",
    "        shutil.move(src_file, dest_file)\n",
    "        \n",
    "        # Remove the output directory\n",
    "        shutil.rmtree(out_dir)\n",
    "        \n",
    "        print(f\"Table file for '{input_file}' has been extracted and renamed.\")\n",
    "    else:\n",
    "        print(f\"Error: The output directory '{out_dir}' does not exist\")\n",
    "\n",
    "print(\"All operations have been completed.\")"
   ]
  },
  {
   "attachments": {},
   "cell_type": "markdown",
   "metadata": {},
   "source": [
    "In this, we ran the files with different current values. Now let's say I have files named 'STNO_{r}nm_{a}Amp.txt' where {r} ranged from 30 to 200 in steps of 10, and {a} ranges from 04 to 20 in steps of 1. I want to run all these files in the same manner as we just above."
   ]
  },
  {
   "cell_type": "code",
   "execution_count": null,
   "metadata": {},
   "outputs": [],
   "source": [
    "import os\n",
    "import shutil\n",
    "import subprocess\n",
    "import time\n",
    "\n",
    "# Set the directory where the files are located\n",
    "directory = \"./\"  # current directory\n",
    "\n",
    "# Create a list of commands for different OS types\n",
    "if os.name == 'nt':\n",
    "    mumax3_command = [\"cmd\", \"/c\", \"mumax3\"]\n",
    "else:\n",
    "    mumax3_command = [\"mumax3\"]\n",
    "\n",
    "# Iterate over the radii from 30nm to 200nm\n",
    "for r in range(30, 210, 10):  # 210 is exclusive\n",
    "    # Iterate over the current values from 0.04 to 0.20\n",
    "    for a in range(4, 21):\n",
    "        # Construct the input file name\n",
    "        current_str = f\"{a:02}\"  # Format current value with leading zeros\n",
    "        input_file = f\"STNO_{r}nm_{current_str}Amp.txt\"\n",
    "\n",
    "        # Run the mumax3 command on the input file\n",
    "        subprocess.run(mumax3_command + [input_file])\n",
    "\n",
    "        # Delay to ensure that the processing has been completed\n",
    "        time.sleep(120)  # Delay for 120 seconds\n",
    "        \n",
    "        # Construct the output directory name\n",
    "        out_dir = f\"STNO_{r}nm_{current_str}Amp.out\"\n",
    "        \n",
    "        # Check if the output directory exists\n",
    "        if os.path.isdir(out_dir):\n",
    "            # Construct the source and destination file paths\n",
    "            src_file = os.path.join(out_dir, \"table.txt\")\n",
    "            dest_file = f\"table_{r}nm_{current_str}Amp.txt\"\n",
    "            \n",
    "            # Move the table.txt file to the current directory and rename it\n",
    "            shutil.move(src_file, dest_file)\n",
    "            \n",
    "            # Remove the output directory\n",
    "            shutil.rmtree(out_dir)\n",
    "            \n",
    "            print(f\"Table file for '{input_file}' has been extracted and renamed.\")\n",
    "        else:\n",
    "            print(f\"Error: The output directory '{out_dir}' does not exist\")\n",
    "\n",
    "print(\"All operations have been completed.\")"
   ]
  },
  {
   "attachments": {},
   "cell_type": "markdown",
   "metadata": {},
   "source": [
    "# Amplitude and Power Spectrum"
   ]
  },
  {
   "cell_type": "code",
   "execution_count": null,
   "metadata": {},
   "outputs": [],
   "source": []
  },
  {
   "attachments": {},
   "cell_type": "markdown",
   "metadata": {},
   "source": []
  }
 ],
 "metadata": {
  "kernelspec": {
   "display_name": "base",
   "language": "python",
   "name": "python3"
  },
  "language_info": {
   "codemirror_mode": {
    "name": "ipython",
    "version": 3
   },
   "file_extension": ".py",
   "mimetype": "text/x-python",
   "name": "python",
   "nbconvert_exporter": "python",
   "pygments_lexer": "ipython3",
   "version": "3.10.9"
  },
  "orig_nbformat": 4
 },
 "nbformat": 4,
 "nbformat_minor": 2
}
